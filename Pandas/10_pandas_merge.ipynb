{
 "cells": [
  {
   "cell_type": "code",
   "execution_count": 3,
   "metadata": {},
   "outputs": [],
   "source": [
    "import pandas as pd\n",
    "import datetime"
   ]
  },
  {
   "cell_type": "code",
   "execution_count": 4,
   "metadata": {},
   "outputs": [],
   "source": [
    "customers = {\n",
    "    'CustomerId': [1,2,3,4],\n",
    "    'FirstName': [\"Ahmet\",\"Ali\",\"Hasan\",\"Canan\"],\n",
    "    'LastName': [\"Yılmaz\",\"Korkmaz\",\"Çelik\",\"Toprak\"],\n",
    "    'OrderDate': [datetime.date(2023,2,1),datetime.date(2023,1,1),\n",
    "                       datetime.date(2023,2,2),datetime.date(2023,1,1)]\n",
    "    \n",
    "}\n",
    "\n",
    "orders = {\n",
    "    'OrderId': [10,11,12,13],\n",
    "    'CustomerId': [1,2,5,7],\n",
    "    'OrderDate': [datetime.date(2023,2,1),datetime.date(2023,1,1),\n",
    "                       datetime.date(2023,2,2),datetime.date(2023,1,1)]\n",
    "}\n",
    "\n",
    "\n",
    "df_customers = pd.DataFrame(customers, columns = [\"CustomerId\",\"FirstName\",\"LastName\",\"OrderDate\"])\n",
    "df_orders = pd.DataFrame(orders, columns = [\"OrderId\",\"CustomerId\",\"OrderDate\"])\n",
    "# print(df_customers)\n",
    "# print(df_orders)"
   ]
  },
  {
   "cell_type": "code",
   "execution_count": 5,
   "metadata": {},
   "outputs": [
    {
     "name": "stdout",
     "output_type": "stream",
     "text": [
      "   CustomerId FirstName LastName   OrderDate  OrderId\n",
      "0           1     Ahmet   Yılmaz  2023-02-01       10\n",
      "1           2       Ali  Korkmaz  2023-01-01       11\n"
     ]
    }
   ],
   "source": [
    "\n",
    "result = pd.merge(df_customers,df_orders,how=\"inner\")    # inner merge is default merge, inner >> intersection\n",
    "\n",
    "print(result)\n"
   ]
  },
  {
   "cell_type": "code",
   "execution_count": 6,
   "metadata": {},
   "outputs": [
    {
     "name": "stdout",
     "output_type": "stream",
     "text": [
      "   CustomerId FirstName LastName   OrderDate  OrderId\n",
      "0           1     Ahmet   Yılmaz  2023-02-01     10.0\n",
      "1           2       Ali  Korkmaz  2023-01-01     11.0\n",
      "2           3     Hasan    Çelik  2023-02-02      NaN\n",
      "3           4     Canan   Toprak  2023-01-01      NaN\n",
      "4           5       NaN      NaN  2023-02-02     12.0\n",
      "5           7       NaN      NaN  2023-01-01     13.0\n"
     ]
    }
   ],
   "source": [
    "result = pd.merge(df_customers,df_orders,how=\"outer\")   # outer merger >>> union\n",
    "print(result)\n"
   ]
  },
  {
   "cell_type": "code",
   "execution_count": 7,
   "metadata": {},
   "outputs": [
    {
     "name": "stdout",
     "output_type": "stream",
     "text": [
      "   CustomerId FirstName LastName   OrderDate  OrderId\n",
      "0           1     Ahmet   Yılmaz  2023-02-01     10.0\n",
      "1           2       Ali  Korkmaz  2023-01-01     11.0\n",
      "2           3     Hasan    Çelik  2023-02-02      NaN\n",
      "3           4     Canan   Toprak  2023-01-01      NaN\n"
     ]
    }
   ],
   "source": [
    "result = pd.merge(df_customers,df_orders,how=\"left\")\n",
    "print(result)\n"
   ]
  },
  {
   "cell_type": "code",
   "execution_count": 8,
   "metadata": {},
   "outputs": [
    {
     "name": "stdout",
     "output_type": "stream",
     "text": [
      "   CustomerId FirstName LastName   OrderDate  OrderId\n",
      "0           1     Ahmet   Yılmaz  2023-02-01       10\n",
      "1           2       Ali  Korkmaz  2023-01-01       11\n",
      "2           5       NaN      NaN  2023-02-02       12\n",
      "3           7       NaN      NaN  2023-01-01       13\n"
     ]
    }
   ],
   "source": [
    "result = pd.merge(df_customers,df_orders,how=\"right\")\n",
    "print(result)"
   ]
  },
  {
   "cell_type": "code",
   "execution_count": 9,
   "metadata": {},
   "outputs": [
    {
     "name": "stdout",
     "output_type": "stream",
     "text": [
      "   CustomerId_left FirstName LastName   OrderDate  OrderId  CustomerId_right\n",
      "0                1     Ahmet   Yılmaz  2023-02-01       10                 1\n",
      "1                2       Ali  Korkmaz  2023-01-01       11                 2\n",
      "2                2       Ali  Korkmaz  2023-01-01       13                 7\n",
      "3                4     Canan   Toprak  2023-01-01       11                 2\n",
      "4                4     Canan   Toprak  2023-01-01       13                 7\n",
      "5                3     Hasan    Çelik  2023-02-02       12                 5\n"
     ]
    }
   ],
   "source": [
    "df_merged =pd.merge(df_customers,df_orders, on='OrderDate',suffixes=(\"_left\", \"_right\"))                        # merging on OrderDate but the tables have similar columns with identical names\n",
    "print(df_merged)"
   ]
  },
  {
   "cell_type": "code",
   "execution_count": 10,
   "metadata": {},
   "outputs": [
    {
     "name": "stdout",
     "output_type": "stream",
     "text": [
      "   CustomerId FirstName LastName   OrderDate  OrderId\n",
      "0           1     Ahmet   Yılmaz  2023-02-01       10\n",
      "1           2       Ali  Korkmaz  2023-01-01       11\n"
     ]
    }
   ],
   "source": [
    "df_merged =pd.merge(df_customers,df_orders, on=['CustomerId', 'OrderDate'] ,suffixes=(\"_left\", \"_right\"))        # you can merge on multiple columns\n",
    "print(df_merged)"
   ]
  },
  {
   "cell_type": "code",
   "execution_count": 11,
   "metadata": {},
   "outputs": [
    {
     "data": {
      "text/html": [
       "<div>\n",
       "<style scoped>\n",
       "    .dataframe tbody tr th:only-of-type {\n",
       "        vertical-align: middle;\n",
       "    }\n",
       "\n",
       "    .dataframe tbody tr th {\n",
       "        vertical-align: top;\n",
       "    }\n",
       "\n",
       "    .dataframe thead th {\n",
       "        text-align: right;\n",
       "    }\n",
       "</style>\n",
       "<table border=\"1\" class=\"dataframe\">\n",
       "  <thead>\n",
       "    <tr style=\"text-align: right;\">\n",
       "      <th></th>\n",
       "      <th>CustomerId</th>\n",
       "      <th>FirstName</th>\n",
       "      <th>LastName</th>\n",
       "      <th>OrderDate_x</th>\n",
       "      <th>OrderId</th>\n",
       "      <th>Customer_Id</th>\n",
       "      <th>OrderDate_y</th>\n",
       "    </tr>\n",
       "  </thead>\n",
       "  <tbody>\n",
       "    <tr>\n",
       "      <th>0</th>\n",
       "      <td>1</td>\n",
       "      <td>Ahmet</td>\n",
       "      <td>Yılmaz</td>\n",
       "      <td>2023-02-01</td>\n",
       "      <td>10</td>\n",
       "      <td>1</td>\n",
       "      <td>2023-02-01</td>\n",
       "    </tr>\n",
       "    <tr>\n",
       "      <th>1</th>\n",
       "      <td>2</td>\n",
       "      <td>Ali</td>\n",
       "      <td>Korkmaz</td>\n",
       "      <td>2023-01-01</td>\n",
       "      <td>11</td>\n",
       "      <td>2</td>\n",
       "      <td>2023-01-01</td>\n",
       "    </tr>\n",
       "  </tbody>\n",
       "</table>\n",
       "</div>"
      ],
      "text/plain": [
       "   CustomerId FirstName LastName OrderDate_x  OrderId  Customer_Id OrderDate_y\n",
       "0           1     Ahmet   Yılmaz  2023-02-01       10            1  2023-02-01\n",
       "1           2       Ali  Korkmaz  2023-01-01       11            2  2023-01-01"
      ]
     },
     "execution_count": 11,
     "metadata": {},
     "output_type": "execute_result"
    }
   ],
   "source": [
    "df_orders.rename(columns={'CustomerId':'Customer_Id'},inplace=True)\n",
    "pd.merge(df_customers,df_orders,left_on='CustomerId', right_on='Customer_Id')                                   # merging on columns with different column names\n"
   ]
  },
  {
   "cell_type": "code",
   "execution_count": 12,
   "metadata": {},
   "outputs": [],
   "source": [
    "customersA = {\n",
    "    'CustomerId': [1,2,3,4],\n",
    "    'FirstName': [\"Ahmet\",\"Ali\",\"Hasan\",\"Canan\"],\n",
    "    'LastName': [\"Yılmaz\",\"Korkmaz\",\"Çelik\",\"Toprak\"]\n",
    "}\n",
    "\n",
    "customersB = {\n",
    "    'CustomerId': [4,5,6,7],\n",
    "    'FirstName': [\"Yağmur\",\"Çınar\",\"Cengiz\",\"Can\"],\n",
    "    'LastName': [\"Bilge\",\"Turan\",\"Yılmaz\",\"Turan\"]\n",
    "}"
   ]
  },
  {
   "cell_type": "code",
   "execution_count": 13,
   "metadata": {},
   "outputs": [
    {
     "name": "stdout",
     "output_type": "stream",
     "text": [
      "   CustomerId FirstName LastName  CustomerId FirstName LastName\n",
      "0           1     Ahmet   Yılmaz           4    Yağmur    Bilge\n",
      "1           2       Ali  Korkmaz           5     Çınar    Turan\n",
      "2           3     Hasan    Çelik           6    Cengiz   Yılmaz\n",
      "3           4     Canan   Toprak           7       Can    Turan\n"
     ]
    }
   ],
   "source": [
    "df_customersA = pd.DataFrame(customersA, columns = [\"CustomerId\",\"FirstName\",\"LastName\"])\n",
    "df_customersB = pd.DataFrame(customersB, columns = [\"CustomerId\",\"FirstName\",\"LastName\"])\n",
    "\n",
    "result = pd.concat([df_customersA,df_customersB])\n",
    "result = pd.concat([df_customersA,df_customersB],axis=1)\n",
    "\n",
    "\n",
    "print(result)"
   ]
  }
 ],
 "metadata": {
  "kernelspec": {
   "display_name": "base",
   "language": "python",
   "name": "python3"
  },
  "language_info": {
   "codemirror_mode": {
    "name": "ipython",
    "version": 3
   },
   "file_extension": ".py",
   "mimetype": "text/x-python",
   "name": "python",
   "nbconvert_exporter": "python",
   "pygments_lexer": "ipython3",
   "version": "3.8.3"
  }
 },
 "nbformat": 4,
 "nbformat_minor": 2
}
