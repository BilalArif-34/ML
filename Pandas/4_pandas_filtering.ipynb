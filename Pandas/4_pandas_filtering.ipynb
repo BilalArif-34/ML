{
 "cells": [
  {
   "cell_type": "code",
   "execution_count": 3,
   "metadata": {},
   "outputs": [],
   "source": [
    "import pandas as pd\n",
    "import numpy as np\n",
    "import random"
   ]
  },
  {
   "cell_type": "code",
   "execution_count": 4,
   "metadata": {},
   "outputs": [],
   "source": [
    "\n",
    "data = np.random.randint(10,100,75).reshape(15,5)\n",
    "df = pd.DataFrame(data, columns = [\"Column1\",\"Column2\",\"Column3\",\"Column4\",\"Column5\"])\n"
   ]
  },
  {
   "cell_type": "code",
   "execution_count": 7,
   "metadata": {},
   "outputs": [
    {
     "name": "stdout",
     "output_type": "stream",
     "text": [
      "    Column1  Column2  Column3  Column4  Column5\n",
      "5        89       24       49       43       99\n",
      "6        60       36       61       11       83\n",
      "7        94       30       89       16       23\n",
      "8        76       72       87       10       44\n",
      "9        26       58       47       60       90\n",
      "10       21       46       43       67       39\n",
      "11       40       25       62       39       17\n",
      "12       69       18       41       40       36\n",
      "13       18       19       35       31       58\n",
      "14       29       73       97       36       25\n"
     ]
    }
   ],
   "source": [
    "\n",
    "result = df.columns\n",
    "result = df.index\n",
    "result = df.head()\n",
    "result = df.head(10)\n",
    "result = df.tail()\n",
    "result = df.tail(10)\n",
    "\n",
    "print(result)"
   ]
  },
  {
   "cell_type": "code",
   "execution_count": 8,
   "metadata": {},
   "outputs": [
    {
     "name": "stdout",
     "output_type": "stream",
     "text": [
      "    Column1  Column2\n",
      "10       21       46\n",
      "11       40       25\n",
      "12       69       18\n",
      "13       18       19\n",
      "14       29       73\n"
     ]
    }
   ],
   "source": [
    "result = df[\"Column1\"].head()\n",
    "result = df.Column1.head()                 # another way to write the above line\n",
    "result = df[[\"Column1\",\"Column2\"]].head()\n",
    "result = df[[\"Column1\",\"Column2\"]].tail()\n",
    "result = df[5:15][[\"Column1\",\"Column2\"]].head()\n",
    "result = df[5:15][[\"Column1\",\"Column2\"]].tail()\n",
    "\n",
    "print(result)"
   ]
  },
  {
   "cell_type": "code",
   "execution_count": 14,
   "metadata": {},
   "outputs": [
    {
     "name": "stdout",
     "output_type": "stream",
     "text": [
      "    Column1  Column2  Column3  Column4  Column5\n",
      "0       NaN      NaN     92.0      NaN     91.0\n",
      "1      61.0      NaN     70.0     97.0     83.0\n",
      "2       NaN     58.0     70.0      NaN     99.0\n",
      "3      54.0      NaN      NaN     79.0      NaN\n",
      "4      63.0     52.0      NaN     65.0     62.0\n",
      "5      89.0      NaN      NaN      NaN     99.0\n",
      "6      60.0      NaN     61.0      NaN     83.0\n",
      "7      94.0      NaN     89.0      NaN      NaN\n",
      "8      76.0     72.0     87.0      NaN      NaN\n",
      "9       NaN     58.0      NaN     60.0     90.0\n",
      "10      NaN      NaN      NaN     67.0      NaN\n",
      "11      NaN      NaN     62.0      NaN      NaN\n",
      "12     69.0      NaN      NaN      NaN      NaN\n",
      "13      NaN      NaN      NaN      NaN     58.0\n",
      "14      NaN     73.0     97.0      NaN      NaN\n",
      "************************\n",
      "    Column1  Column2\n",
      "1        61       47\n",
      "2        40       58\n",
      "3        54       37\n",
      "4        63       52\n",
      "5        89       24\n",
      "6        60       36\n",
      "7        94       30\n",
      "8        76       72\n",
      "9        26       58\n",
      "11       40       25\n",
      "12       69       18\n",
      "13       18       19\n"
     ]
    }
   ],
   "source": [
    "\n",
    "result = df[df > 50]\n",
    "print(result)\n",
    "print(\"************************\")\n",
    "\n",
    "\n",
    "result = df[df % 2==0]\n",
    "result = df[df[\"Column1\"] > 50][[\"Column1\",\"Column2\"]]\n",
    "result = df[(df[\"Column1\"] > 50) & (df[\"Column1\"] <= 70)]\n",
    "result = df[(df[\"Column1\"] > 50) & (df[\"Column2\"] <= 70)]\n",
    "result = df[(df[\"Column1\"] > 50) | (df[\"Column2\"] > 50)][[\"Column1\",\"Column2\"]]\n",
    "\n",
    "# another way to write the above filter query\n",
    "result = df.query(\"Column1 >= 50 & Column1 % 2 == 0\")\n",
    "result = df.query(\"Column1 >= 50 & Column1 % 2 == 0\")[[\"Column1\",\"Column2\"]]\n",
    "result = df.query(\"Column1 >= 50 | Column1 % 2 == 0\")[[\"Column1\",\"Column2\"]]\n",
    "\n",
    "\n",
    "print(result)"
   ]
  }
 ],
 "metadata": {
  "kernelspec": {
   "display_name": "base",
   "language": "python",
   "name": "python3"
  },
  "language_info": {
   "codemirror_mode": {
    "name": "ipython",
    "version": 3
   },
   "file_extension": ".py",
   "mimetype": "text/x-python",
   "name": "python",
   "nbconvert_exporter": "python",
   "pygments_lexer": "ipython3",
   "version": "3.8.3"
  }
 },
 "nbformat": 4,
 "nbformat_minor": 2
}
