{
 "cells": [
  {
   "cell_type": "code",
   "execution_count": null,
   "metadata": {},
   "outputs": [],
   "source": [
    "import sqlite3\n",
    "import pandas as pd\n",
    "\n",
    "# df = pd.read_csv('datasets/sample.csv')\n",
    "# df = pd.read_json('datasets/sample.json',encoding=\"UTF-8\")\n",
    "# df = pd.read_excel(\"version_1\\\\18-Pandas\\\\datasets\\\\sample.xlsx\")\n",
    "\n",
    "connection = sqlite3.connect(\"\\\\datasets\\\\sample.db\")\n",
    "df = pd.read_sql_query(\"SELECT * FROM students\",connection)\n",
    "\n",
    "print(df)"
   ]
  }
 ],
 "metadata": {
  "language_info": {
   "name": "python"
  }
 },
 "nbformat": 4,
 "nbformat_minor": 2
}
