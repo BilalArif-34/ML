{
 "cells": [
  {
   "cell_type": "code",
   "execution_count": 10,
   "metadata": {},
   "outputs": [],
   "source": [
    "import pandas as pd\n",
    "import numpy as np"
   ]
  },
  {
   "cell_type": "code",
   "execution_count": 11,
   "metadata": {},
   "outputs": [],
   "source": [
    "data = {\n",
    "    \"Column1\": [1,2,3,4,5],\n",
    "    \"Column2\": [10,70,50,20,85],\n",
    "    \"Column3\": [\"abc\",\"bcaa\",\"ade\",\"cb\",\"dea\"]\n",
    "}\n",
    "\n",
    "df = pd.DataFrame(data)"
   ]
  },
  {
   "cell_type": "code",
   "execution_count": 12,
   "metadata": {},
   "outputs": [],
   "source": [
    "def muraba(x):\n",
    "    return x * x"
   ]
  },
  {
   "cell_type": "code",
   "execution_count": 13,
   "metadata": {},
   "outputs": [
    {
     "name": "stdout",
     "output_type": "stream",
     "text": [
      "0     1\n",
      "1     4\n",
      "2     9\n",
      "3    16\n",
      "4    25\n",
      "Name: Column1, dtype: int64\n"
     ]
    }
   ],
   "source": [
    "result = df[\"Column1\"].apply(muraba)\n",
    "result = df[\"Column1\"].apply(lambda x: x * x)\n",
    "\n",
    "# Aggregate using one or more operations over the specified axis.\n",
    "result = df[\"Column1\"].agg(lambda x: x * x)\n",
    "\n",
    "print(result)"
   ]
  },
  {
   "cell_type": "code",
   "execution_count": 14,
   "metadata": {},
   "outputs": [
    {
     "data": {
      "text/html": [
       "<div>\n",
       "<style scoped>\n",
       "    .dataframe tbody tr th:only-of-type {\n",
       "        vertical-align: middle;\n",
       "    }\n",
       "\n",
       "    .dataframe tbody tr th {\n",
       "        vertical-align: top;\n",
       "    }\n",
       "\n",
       "    .dataframe thead th {\n",
       "        text-align: right;\n",
       "    }\n",
       "</style>\n",
       "<table border=\"1\" class=\"dataframe\">\n",
       "  <thead>\n",
       "    <tr style=\"text-align: right;\">\n",
       "      <th></th>\n",
       "      <th>Column1</th>\n",
       "      <th>Column2</th>\n",
       "      <th>Column3</th>\n",
       "      <th>Column4</th>\n",
       "    </tr>\n",
       "  </thead>\n",
       "  <tbody>\n",
       "    <tr>\n",
       "      <th>0</th>\n",
       "      <td>1</td>\n",
       "      <td>10</td>\n",
       "      <td>abc</td>\n",
       "      <td>Low</td>\n",
       "    </tr>\n",
       "    <tr>\n",
       "      <th>1</th>\n",
       "      <td>2</td>\n",
       "      <td>70</td>\n",
       "      <td>bcaa</td>\n",
       "      <td>High</td>\n",
       "    </tr>\n",
       "    <tr>\n",
       "      <th>2</th>\n",
       "      <td>3</td>\n",
       "      <td>50</td>\n",
       "      <td>ade</td>\n",
       "      <td>High</td>\n",
       "    </tr>\n",
       "    <tr>\n",
       "      <th>3</th>\n",
       "      <td>4</td>\n",
       "      <td>20</td>\n",
       "      <td>cb</td>\n",
       "      <td>Low</td>\n",
       "    </tr>\n",
       "    <tr>\n",
       "      <th>4</th>\n",
       "      <td>5</td>\n",
       "      <td>85</td>\n",
       "      <td>dea</td>\n",
       "      <td>High</td>\n",
       "    </tr>\n",
       "  </tbody>\n",
       "</table>\n",
       "</div>"
      ],
      "text/plain": [
       "   Column1  Column2 Column3 Column4\n",
       "0        1       10     abc     Low\n",
       "1        2       70    bcaa    High\n",
       "2        3       50     ade    High\n",
       "3        4       20      cb     Low\n",
       "4        5       85     dea    High"
      ]
     },
     "execution_count": 14,
     "metadata": {},
     "output_type": "execute_result"
    }
   ],
   "source": [
    "df[\"Column4\"] = df[\"Column2\"].apply(lambda x: np.where(x>40, \"High\", \"Low\"))\n",
    "df"
   ]
  },
  {
   "cell_type": "code",
   "execution_count": 15,
   "metadata": {},
   "outputs": [
    {
     "data": {
      "text/plain": [
       "min    1\n",
       "max    5\n",
       "Name: Column1, dtype: int64"
      ]
     },
     "execution_count": 15,
     "metadata": {},
     "output_type": "execute_result"
    }
   ],
   "source": [
    "df[\"Column1\"].agg(['min', 'max'])"
   ]
  },
  {
   "cell_type": "code",
   "execution_count": 16,
   "metadata": {},
   "outputs": [
    {
     "name": "stdout",
     "output_type": "stream",
     "text": [
      "Kategori  Elektronik  Giyim  Kitap\n",
      "Ay                                \n",
      "Haziran           30     36     32\n",
      "Mayıs             20     12     14\n",
      "Nisan             15     52     42\n"
     ]
    }
   ],
   "source": [
    "data = {\n",
    "    \"Ay\": [\"Mayıs\",\"Haziran\",\"Nisan\",\"Mayıs\",\"Haziran\",\"Nisan\",\"Mayıs\",\"Haziran\",\"Nisan\"],\n",
    "    \"Kategori\": [\"Elektronik\",\"Elektronik\",\"Elektronik\",\"Kitap\",\"Kitap\",\"Kitap\",\"Giyim\",\"Giyim\",\"Giyim\"],\n",
    "    \"Gelir\": [20,30,15,14,32,42,12,36,52]\n",
    "}\n",
    "\n",
    "df = pd.DataFrame(data)\n",
    "print(df.pivot_table(index=\"Ay\",columns= \"Kategori\", values= \"Gelir\"))\n"
   ]
  }
 ],
 "metadata": {
  "kernelspec": {
   "display_name": "base",
   "language": "python",
   "name": "python3"
  },
  "language_info": {
   "codemirror_mode": {
    "name": "ipython",
    "version": 3
   },
   "file_extension": ".py",
   "mimetype": "text/x-python",
   "name": "python",
   "nbconvert_exporter": "python",
   "pygments_lexer": "ipython3",
   "version": "3.8.3"
  }
 },
 "nbformat": 4,
 "nbformat_minor": 2
}
