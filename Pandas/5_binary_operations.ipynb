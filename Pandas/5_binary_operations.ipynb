{
 "cells": [
  {
   "cell_type": "code",
   "execution_count": 45,
   "metadata": {},
   "outputs": [],
   "source": [
    "import pandas as pd\n",
    "import numpy as np"
   ]
  },
  {
   "cell_type": "code",
   "execution_count": 46,
   "metadata": {},
   "outputs": [
    {
     "data": {
      "text/html": [
       "<div>\n",
       "<style scoped>\n",
       "    .dataframe tbody tr th:only-of-type {\n",
       "        vertical-align: middle;\n",
       "    }\n",
       "\n",
       "    .dataframe tbody tr th {\n",
       "        vertical-align: top;\n",
       "    }\n",
       "\n",
       "    .dataframe thead th {\n",
       "        text-align: right;\n",
       "    }\n",
       "</style>\n",
       "<table border=\"1\" class=\"dataframe\">\n",
       "  <thead>\n",
       "    <tr style=\"text-align: right;\">\n",
       "      <th></th>\n",
       "      <th>names</th>\n",
       "      <th>age</th>\n",
       "      <th>cgpa</th>\n",
       "      <th>marks</th>\n",
       "      <th>address</th>\n",
       "    </tr>\n",
       "  </thead>\n",
       "  <tbody>\n",
       "    <tr>\n",
       "      <th>0</th>\n",
       "      <td>Sarah</td>\n",
       "      <td>50</td>\n",
       "      <td>3.4</td>\n",
       "      <td>-5</td>\n",
       "      <td>Karachi</td>\n",
       "    </tr>\n",
       "    <tr>\n",
       "      <th>1</th>\n",
       "      <td>Ahmed</td>\n",
       "      <td>60</td>\n",
       "      <td>2.9</td>\n",
       "      <td>2</td>\n",
       "      <td>Lahore</td>\n",
       "    </tr>\n",
       "    <tr>\n",
       "      <th>2</th>\n",
       "      <td>Ali</td>\n",
       "      <td>70</td>\n",
       "      <td>3.6</td>\n",
       "      <td>6</td>\n",
       "      <td>Islamabad</td>\n",
       "    </tr>\n",
       "  </tbody>\n",
       "</table>\n",
       "</div>"
      ],
      "text/plain": [
       "   names  age  cgpa  marks    address\n",
       "0  Sarah   50   3.4     -5    Karachi\n",
       "1  Ahmed   60   2.9      2     Lahore\n",
       "2    Ali   70   3.6      6  Islamabad"
      ]
     },
     "execution_count": 46,
     "metadata": {},
     "output_type": "execute_result"
    }
   ],
   "source": [
    "df = pd.DataFrame({\n",
    "    'names':['Sarah','Ahmed','Ali'],\n",
    "    'age':[50,60,70],\n",
    "    'cgpa':[3.4,2.9,3.6],\n",
    "    'marks':[-5,2,6],\n",
    "    'address':['Karachi','Lahore','Islamabad']    \n",
    "})\n",
    "df"
   ]
  },
  {
   "cell_type": "code",
   "execution_count": 47,
   "metadata": {},
   "outputs": [
    {
     "data": {
      "text/plain": [
       "0    5\n",
       "1    2\n",
       "2    6\n",
       "Name: marks, dtype: int64"
      ]
     },
     "execution_count": 47,
     "metadata": {},
     "output_type": "execute_result"
    }
   ],
   "source": [
    "df['marks'].abs()"
   ]
  },
  {
   "cell_type": "code",
   "execution_count": 48,
   "metadata": {},
   "outputs": [
    {
     "data": {
      "text/plain": [
       "a    2.0\n",
       "b    1.0\n",
       "c    1.0\n",
       "d    1.0\n",
       "e    NaN\n",
       "dtype: float64"
      ]
     },
     "execution_count": 48,
     "metadata": {},
     "output_type": "execute_result"
    }
   ],
   "source": [
    "a = pd.Series([1, 1, 1, np.nan], index=['a', 'b', 'c', 'd'])\n",
    "b = pd.Series([1, np.nan, 1, np.nan], index=['a', 'b', 'd', 'e'])\n",
    "a.add(b, fill_value=0)"
   ]
  },
  {
   "cell_type": "code",
   "execution_count": 49,
   "metadata": {},
   "outputs": [
    {
     "name": "stdout",
     "output_type": "stream",
     "text": [
      "   names  age  cgpa  marks    address\n",
      "0  Sarah   50   3.4   -5.0    Karachi\n",
      "1  Ahmed   60   2.9    1.0     Lahore\n",
      "2    Ali   70   3.6    2.0  Islamabad\n"
     ]
    }
   ],
   "source": [
    "list =[1, 2, 3] \n",
    "# df[\"marks\"]= df[\"marks\"].add(list) \n",
    "# df[\"marks\"]= df[\"marks\"].mul(list) \n",
    "df[\"marks\"]= df[\"marks\"].div(list) \n",
    "print(df)\n"
   ]
  },
  {
   "cell_type": "code",
   "execution_count": 50,
   "metadata": {},
   "outputs": [
    {
     "name": "stdout",
     "output_type": "stream",
     "text": [
      "   names  age  cgpa  marks    address\n",
      "0  Sarah   50   3.4   -5.0    Karachi\n",
      "1  Ahmed   60   2.9    1.0     Lahore\n",
      "2    Ali   70   3.6    8.0  Islamabad\n"
     ]
    }
   ],
   "source": [
    "# df[\"marks\"]= df[\"marks\"].pow(2) \n",
    "df[\"marks\"]= df[\"marks\"].pow(list) \n",
    "print(df)\n"
   ]
  }
 ],
 "metadata": {
  "kernelspec": {
   "display_name": "base",
   "language": "python",
   "name": "python3"
  },
  "language_info": {
   "codemirror_mode": {
    "name": "ipython",
    "version": 3
   },
   "file_extension": ".py",
   "mimetype": "text/x-python",
   "name": "python",
   "nbconvert_exporter": "python",
   "pygments_lexer": "ipython3",
   "version": "3.8.3"
  }
 },
 "nbformat": 4,
 "nbformat_minor": 2
}
