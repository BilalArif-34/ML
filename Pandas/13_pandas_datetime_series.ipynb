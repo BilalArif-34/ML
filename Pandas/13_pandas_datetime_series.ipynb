{
 "cells": [
  {
   "cell_type": "code",
   "execution_count": 55,
   "metadata": {},
   "outputs": [],
   "source": [
    "import pandas as pd\n",
    "import numpy as np\n",
    "from datetime import datetime\n"
   ]
  },
  {
   "cell_type": "code",
   "execution_count": 56,
   "metadata": {},
   "outputs": [
    {
     "data": {
      "text/plain": [
       "datetime.datetime(2014, 12, 15, 0, 0)"
      ]
     },
     "execution_count": 56,
     "metadata": {},
     "output_type": "execute_result"
    }
   ],
   "source": [
    "date = datetime(2014, 12, 15)\n",
    "date"
   ]
  },
  {
   "cell_type": "code",
   "execution_count": 57,
   "metadata": {},
   "outputs": [],
   "source": [
    "date_with_hour_minutes = datetime(2014, 12, 15, 17, 30)"
   ]
  },
  {
   "cell_type": "code",
   "execution_count": 58,
   "metadata": {},
   "outputs": [
    {
     "data": {
      "text/plain": [
       "datetime.datetime(2024, 1, 19, 8, 14, 29, 176420)"
      ]
     },
     "execution_count": 58,
     "metadata": {},
     "output_type": "execute_result"
    }
   ],
   "source": [
    "datetime.now()"
   ]
  },
  {
   "cell_type": "markdown",
   "metadata": {},
   "source": [
    "### Pandas TimeStamp Object"
   ]
  },
  {
   "cell_type": "code",
   "execution_count": 59,
   "metadata": {},
   "outputs": [
    {
     "data": {
      "text/plain": [
       "Timestamp('2014-12-15 00:00:00')"
      ]
     },
     "execution_count": 59,
     "metadata": {},
     "output_type": "execute_result"
    }
   ],
   "source": [
    "pandas_date = pd.Timestamp('2014-12-15')\n",
    "pandas_date\n"
   ]
  },
  {
   "cell_type": "code",
   "execution_count": 60,
   "metadata": {},
   "outputs": [
    {
     "data": {
      "text/plain": [
       "Timestamp('2024-01-19 17:30:00')"
      ]
     },
     "execution_count": 60,
     "metadata": {},
     "output_type": "execute_result"
    }
   ],
   "source": [
    "# Adds datestamp\n",
    "pd.Timestamp('17:30')\n"
   ]
  },
  {
   "cell_type": "code",
   "execution_count": 61,
   "metadata": {},
   "outputs": [
    {
     "data": {
      "text/plain": [
       "Timestamp('2024-01-19 08:14:29.224978')"
      ]
     },
     "execution_count": 61,
     "metadata": {},
     "output_type": "execute_result"
    }
   ],
   "source": [
    "pd.Timestamp(\"now\")"
   ]
  },
  {
   "cell_type": "markdown",
   "metadata": {},
   "source": [
    "### Time Delta to create difference in two timestamps"
   ]
  },
  {
   "cell_type": "code",
   "execution_count": 67,
   "metadata": {},
   "outputs": [
    {
     "data": {
      "text/plain": [
       "datetime.datetime(2024, 1, 21, 8, 20, 6, 728094)"
      ]
     },
     "execution_count": 67,
     "metadata": {},
     "output_type": "execute_result"
    }
   ],
   "source": [
    "today = datetime.today()\n",
    "tomorrow = today + pd.Timedelta(days=2)\n",
    "tomorrow"
   ]
  },
  {
   "cell_type": "code",
   "execution_count": 68,
   "metadata": {},
   "outputs": [
    {
     "data": {
      "text/plain": [
       "datetime.datetime(2025, 1, 1, 0, 0)"
      ]
     },
     "execution_count": 68,
     "metadata": {},
     "output_type": "execute_result"
    }
   ],
   "source": [
    "today = datetime(2024, 12, 31)\n",
    "\n",
    "tomorrow = today + pd.Timedelta(days=1)\n",
    "tomorrow"
   ]
  },
  {
   "cell_type": "code",
   "execution_count": 69,
   "metadata": {},
   "outputs": [
    {
     "data": {
      "text/plain": [
       "datetime.timedelta(days=12)"
      ]
     },
     "execution_count": 69,
     "metadata": {},
     "output_type": "execute_result"
    }
   ],
   "source": [
    "date1 = datetime(2014, 12, 10)\n",
    "\n",
    "date2 = datetime(2014, 11, 28)\n",
    "\n",
    "date1 - date2"
   ]
  },
  {
   "cell_type": "code",
   "execution_count": 70,
   "metadata": {},
   "outputs": [
    {
     "data": {
      "text/plain": [
       "datetime.datetime(2014, 12, 17, 0, 0)"
      ]
     },
     "execution_count": 70,
     "metadata": {},
     "output_type": "execute_result"
    }
   ],
   "source": [
    "date1-pd.Timedelta(weeks=-1)"
   ]
  },
  {
   "cell_type": "markdown",
   "metadata": {},
   "source": [
    "## DatetimeIndex\n",
    "Sequences of timestamp objects are represented by pandas as DatetimeIndex,\n",
    "which is a type of pandas index that is optimized for indexing by date and time.\n",
    "There are several ways to create DatetimeIndex objects in pandas. The following\n",
    "creates a DateTimeindex by passing a list of datetime objects as Series:"
   ]
  },
  {
   "cell_type": "code",
   "execution_count": 72,
   "metadata": {},
   "outputs": [
    {
     "name": "stdout",
     "output_type": "stream",
     "text": [
      "2014-08-01    0.160527\n",
      "2014-08-02    2.917781\n",
      "dtype: float64\n"
     ]
    },
    {
     "data": {
      "text/plain": [
       "DatetimeIndex(['2014-08-01', '2014-08-02'], dtype='datetime64[ns]', freq=None)"
      ]
     },
     "execution_count": 72,
     "metadata": {},
     "output_type": "execute_result"
    }
   ],
   "source": [
    "dates = [datetime(2014, 8, 1), datetime(2014, 8, 2)]\n",
    "timeseries=pd.Series(np.random.randn(2), dates)\n",
    "print(timeseries)\n",
    "timeseries.index"
   ]
  },
  {
   "cell_type": "code",
   "execution_count": 73,
   "metadata": {},
   "outputs": [
    {
     "data": {
      "text/plain": [
       "DatetimeIndex(['2014-08-01', '2014-08-02', '2014-08-03', 'NaT'], dtype='datetime64[ns]', freq=None)"
      ]
     },
     "execution_count": 73,
     "metadata": {},
     "output_type": "execute_result"
    }
   ],
   "source": [
    "# Second method convert a sequence of objects to a DatetimeIndex\n",
    "\n",
    "dti = pd.to_datetime(['Aug 1, 2014','2014-08-02','2014.8.3',None])\n",
    "dti"
   ]
  },
  {
   "cell_type": "code",
   "execution_count": 74,
   "metadata": {},
   "outputs": [
    {
     "name": "stdout",
     "output_type": "stream",
     "text": [
      "2014-08-01 00:00:00\n",
      "2014-08-02 00:00:00\n",
      "2014-08-03 00:00:00\n",
      "NaT\n"
     ]
    }
   ],
   "source": [
    "for x in dti: \n",
    "    print (x)"
   ]
  },
  {
   "cell_type": "markdown",
   "metadata": {},
   "source": [
    "## Date Range"
   ]
  },
  {
   "cell_type": "code",
   "execution_count": 83,
   "metadata": {},
   "outputs": [
    {
     "data": {
      "text/plain": [
       "2014-08-01    75\n",
       "2014-08-02    59\n",
       "2014-08-03    66\n",
       "2014-08-04    53\n",
       "2014-08-05    53\n",
       "2014-08-06    42\n",
       "2014-08-07    97\n",
       "2014-08-08    46\n",
       "2014-08-09    18\n",
       "2014-08-10    84\n",
       "Freq: D, dtype: int32"
      ]
     },
     "execution_count": 83,
     "metadata": {},
     "output_type": "execute_result"
    }
   ],
   "source": [
    "periods = pd.date_range('8/1/2014', periods=10)\n",
    "np.random.seed(123456)\n",
    "date_series = pd.Series(np.random.randint(10,100,(10)), index=periods)\n",
    "date_series"
   ]
  },
  {
   "cell_type": "code",
   "execution_count": 84,
   "metadata": {},
   "outputs": [
    {
     "data": {
      "text/plain": [
       "2014-08-03    0.469112\n",
       "2014-08-10   -0.282863\n",
       "2014-08-17   -1.509059\n",
       "2014-08-24   -1.135632\n",
       "2014-08-31    1.212112\n",
       "2014-09-07   -0.173215\n",
       "2014-09-14    0.119209\n",
       "2014-09-21   -1.044236\n",
       "2014-09-28   -0.861849\n",
       "2014-10-05   -2.104569\n",
       "Freq: W-SUN, dtype: float64"
      ]
     },
     "execution_count": 84,
     "metadata": {},
     "output_type": "execute_result"
    }
   ],
   "source": [
    "periods = pd.date_range('8/1/2014', periods=10,freq=\"W\")\n",
    "np.random.seed(123456)\n",
    "date_series = pd.Series(np.random.randn(10), index=periods)\n",
    "date_series\n"
   ]
  },
  {
   "cell_type": "code",
   "execution_count": 86,
   "metadata": {},
   "outputs": [
    {
     "data": {
      "text/plain": [
       "2014-08-24       10\n",
       "2014-08-31      100\n",
       "2014-09-07     1000\n",
       "2014-09-14    10000\n",
       "Freq: W-SUN, dtype: int64"
      ]
     },
     "execution_count": 86,
     "metadata": {},
     "output_type": "execute_result"
    }
   ],
   "source": [
    "subset = date_series[3:7]\n",
    "s2 = pd.Series([10, 100, 1000, 10000], index=subset.index)\n",
    "s2"
   ]
  },
  {
   "cell_type": "code",
   "execution_count": 87,
   "metadata": {},
   "outputs": [
    {
     "data": {
      "text/plain": [
       "2014-08-03             NaN\n",
       "2014-08-10             NaN\n",
       "2014-08-17             NaN\n",
       "2014-08-24        8.864368\n",
       "2014-08-31      101.212112\n",
       "2014-09-07      999.826785\n",
       "2014-09-14    10000.119209\n",
       "2014-09-21             NaN\n",
       "2014-09-28             NaN\n",
       "2014-10-05             NaN\n",
       "Freq: W-SUN, dtype: float64"
      ]
     },
     "execution_count": 87,
     "metadata": {},
     "output_type": "execute_result"
    }
   ],
   "source": [
    "date_series + s2"
   ]
  },
  {
   "cell_type": "code",
   "execution_count": 88,
   "metadata": {},
   "outputs": [
    {
     "data": {
      "text/plain": [
       "2014-08-10   -0.282863\n",
       "2014-08-17   -1.509059\n",
       "2014-08-24   -1.135632\n",
       "2014-08-31    1.212112\n",
       "2014-09-07   -0.173215\n",
       "2014-09-14    0.119209\n",
       "2014-09-21   -1.044236\n",
       "Freq: W-SUN, dtype: float64"
      ]
     },
     "execution_count": 88,
     "metadata": {},
     "output_type": "execute_result"
    }
   ],
   "source": [
    "date_series['2014-08-10': '2014-09-25']         # slicing using DatetimeIndex"
   ]
  },
  {
   "cell_type": "code",
   "execution_count": 89,
   "metadata": {},
   "outputs": [
    {
     "data": {
      "text/plain": [
       "2013-01-01    -4.949293\n",
       "2013-01-02    10.718038\n",
       "2013-01-03     7.215552\n",
       "2013-01-04    -7.067711\n",
       "2013-01-05   -10.395750\n",
       "                ...    \n",
       "2014-12-27    -2.739551\n",
       "2014-12-28    -7.723693\n",
       "2014-12-29   -12.428066\n",
       "2014-12-30    -3.863363\n",
       "2014-12-31    -1.824856\n",
       "Freq: D, Length: 730, dtype: float64"
      ]
     },
     "execution_count": 89,
     "metadata": {},
     "output_type": "execute_result"
    }
   ],
   "source": [
    "s3 = pd.Series(np.random.randn(730)*10, pd.date_range('2013-01-01', '2014-12-31'))\n",
    "s3"
   ]
  },
  {
   "cell_type": "code",
   "execution_count": 90,
   "metadata": {},
   "outputs": [
    {
     "data": {
      "text/plain": [
       "2014-05-01    -7.302549\n",
       "2014-05-02    -3.392505\n",
       "2014-05-03    16.087001\n",
       "2014-05-04    -6.856717\n",
       "2014-05-05     6.936703\n",
       "2014-05-06    17.778371\n",
       "2014-05-07     9.424523\n",
       "2014-05-08     1.318035\n",
       "2014-05-09    19.633491\n",
       "2014-05-10     5.683759\n",
       "2014-05-11     2.259349\n",
       "2014-05-12     3.679318\n",
       "2014-05-13    -4.637516\n",
       "2014-05-14    -0.552893\n",
       "2014-05-15    -3.608528\n",
       "2014-05-16     7.281973\n",
       "2014-05-17    13.267680\n",
       "2014-05-18     2.089269\n",
       "2014-05-19     2.920581\n",
       "2014-05-20   -20.196103\n",
       "2014-05-21    -0.217630\n",
       "2014-05-22    -0.471522\n",
       "2014-05-23     0.884721\n",
       "2014-05-24    -8.574355\n",
       "2014-05-25   -25.037857\n",
       "2014-05-26   -10.580412\n",
       "2014-05-27    -6.579812\n",
       "2014-05-28    24.615912\n",
       "2014-05-29     1.514118\n",
       "2014-05-30   -20.385679\n",
       "2014-05-31     1.429598\n",
       "Freq: D, dtype: float64"
      ]
     },
     "execution_count": 90,
     "metadata": {},
     "output_type": "execute_result"
    }
   ],
   "source": [
    "# s3['2014-08':'2014-09']\n",
    "s3['2014-05']"
   ]
  },
  {
   "cell_type": "markdown",
   "metadata": {},
   "source": [
    "## Creating time-series data with specific frequencies"
   ]
  },
  {
   "cell_type": "code",
   "execution_count": 91,
   "metadata": {},
   "outputs": [
    {
     "data": {
      "text/plain": [
       "2014-08-01 00:00:00    0.469112\n",
       "2014-08-01 00:01:00   -0.282863\n",
       "2014-08-01 00:02:00   -1.509059\n",
       "2014-08-01 00:03:00   -1.135632\n",
       "2014-08-01 00:04:00    1.212112\n",
       "                         ...   \n",
       "2014-10-29 23:55:00   -0.563029\n",
       "2014-10-29 23:56:00    1.180497\n",
       "2014-10-29 23:57:00    1.850604\n",
       "2014-10-29 23:58:00   -1.589660\n",
       "2014-10-29 23:59:00    0.266429\n",
       "Freq: T, Length: 129600, dtype: float64"
      ]
     },
     "execution_count": 91,
     "metadata": {},
     "output_type": "execute_result"
    }
   ],
   "source": [
    "np.random.seed(123456)\n",
    "bymin = pd.Series(np.random.randn(129600),pd.date_range('2014-08-01','2014-10-29 23:59',freq='T'))\n",
    "bymin"
   ]
  },
  {
   "cell_type": "code",
   "execution_count": null,
   "metadata": {},
   "outputs": [],
   "source": [
    "# minutes=90*24*60\n",
    "# bymin['2014-08-01 00:02':'2014-08-01 00:10']"
   ]
  },
  {
   "cell_type": "code",
   "execution_count": 92,
   "metadata": {},
   "outputs": [
    {
     "name": "stdout",
     "output_type": "stream",
     "text": [
      "2023-01-02 00:00:00\n",
      "2023-01-03 00:00:00\n",
      "2023-01-04 00:00:00\n",
      "2023-01-05 00:00:00\n",
      "2023-01-06 00:00:00\n",
      "2023-01-09 00:00:00\n",
      "2023-01-10 00:00:00\n",
      "2023-01-11 00:00:00\n",
      "2023-01-12 00:00:00\n",
      "2023-01-13 00:00:00\n",
      "2023-01-16 00:00:00\n",
      "2023-01-17 00:00:00\n",
      "2023-01-18 00:00:00\n",
      "2023-01-19 00:00:00\n",
      "2023-01-20 00:00:00\n",
      "2023-01-23 00:00:00\n",
      "2023-01-24 00:00:00\n",
      "2023-01-25 00:00:00\n",
      "2023-01-26 00:00:00\n",
      "2023-01-27 00:00:00\n",
      "2023-01-30 00:00:00\n",
      "2023-01-31 00:00:00\n",
      "2023-02-01 00:00:00\n",
      "2023-02-02 00:00:00\n",
      "2023-02-03 00:00:00\n",
      "2023-02-06 00:00:00\n",
      "2023-02-07 00:00:00\n",
      "2023-02-08 00:00:00\n",
      "2023-02-09 00:00:00\n",
      "2023-02-10 00:00:00\n",
      "2023-02-13 00:00:00\n",
      "2023-02-14 00:00:00\n",
      "2023-02-15 00:00:00\n",
      "2023-02-16 00:00:00\n",
      "2023-02-17 00:00:00\n"
     ]
    }
   ],
   "source": [
    "days = pd.date_range('2023-01-1', '2023-02-18', freq='B')\n",
    "for d in days : print (d)"
   ]
  },
  {
   "cell_type": "code",
   "execution_count": 93,
   "metadata": {},
   "outputs": [
    {
     "data": {
      "text/plain": [
       "DatetimeIndex(['2014-08-01 12:10:01', '2014-08-01 12:10:02',\n",
       "               '2014-08-01 12:10:03', '2014-08-01 12:10:04',\n",
       "               '2014-08-01 12:10:05', '2014-08-01 12:10:06',\n",
       "               '2014-08-01 12:10:07', '2014-08-01 12:10:08',\n",
       "               '2014-08-01 12:10:09', '2014-08-01 12:10:10'],\n",
       "              dtype='datetime64[ns]', freq='S')"
      ]
     },
     "execution_count": 93,
     "metadata": {},
     "output_type": "execute_result"
    }
   ],
   "source": [
    "pd.date_range('2014-08-01 12:10:01', freq='S', periods=10)"
   ]
  },
  {
   "cell_type": "markdown",
   "metadata": {},
   "source": [
    "### Calculating new dates using offsets"
   ]
  },
  {
   "cell_type": "code",
   "execution_count": 94,
   "metadata": {},
   "outputs": [
    {
     "data": {
      "text/plain": [
       "array(['2014-08-29T00:00:00.000000000', '2014-09-01T00:00:00.000000000',\n",
       "       '2014-09-02T00:00:00.000000000', '2014-09-03T00:00:00.000000000',\n",
       "       '2014-09-04T00:00:00.000000000', '2014-09-05T00:00:00.000000000'],\n",
       "      dtype='datetime64[ns]')"
      ]
     },
     "execution_count": 94,
     "metadata": {},
     "output_type": "execute_result"
    }
   ],
   "source": [
    "# get all business days between and inclusive of these two dates\n",
    "dti = pd.date_range('2014-08-29', '2014-09-05', freq='B')\n",
    "dti.values"
   ]
  },
  {
   "cell_type": "code",
   "execution_count": 95,
   "metadata": {},
   "outputs": [
    {
     "data": {
      "text/plain": [
       "<BusinessDay>"
      ]
     },
     "execution_count": 95,
     "metadata": {},
     "output_type": "execute_result"
    }
   ],
   "source": [
    "dti.freq"
   ]
  },
  {
   "cell_type": "code",
   "execution_count": 96,
   "metadata": {},
   "outputs": [
    {
     "data": {
      "text/plain": [
       "Timestamp('2014-08-30 00:00:00')"
      ]
     },
     "execution_count": 96,
     "metadata": {},
     "output_type": "execute_result"
    }
   ],
   "source": [
    "# calculate a one day offset from 2014-8-29\n",
    "d = datetime(2014, 8, 29)\n",
    "\n",
    "\n",
    "do = pd.DateOffset(days = 1)\n",
    "d + do"
   ]
  },
  {
   "cell_type": "code",
   "execution_count": 97,
   "metadata": {},
   "outputs": [
    {
     "data": {
      "text/plain": [
       "Timestamp('2014-08-28 00:00:00')"
      ]
     },
     "execution_count": 97,
     "metadata": {},
     "output_type": "execute_result"
    }
   ],
   "source": [
    "d = datetime(2014, 8, 25)\n",
    "\n",
    "\n",
    "do = pd.DateOffset(n=3)\n",
    "d + do"
   ]
  },
  {
   "cell_type": "code",
   "execution_count": 98,
   "metadata": {},
   "outputs": [
    {
     "data": {
      "text/plain": [
       "Timestamp('2014-08-31 00:00:00')"
      ]
     },
     "execution_count": 98,
     "metadata": {},
     "output_type": "execute_result"
    }
   ],
   "source": [
    "d = datetime(2014, 8, 25)\n",
    "\n",
    "\n",
    "do = pd.offsets.MonthEnd()\n",
    "d + do"
   ]
  }
 ],
 "metadata": {
  "kernelspec": {
   "display_name": "base",
   "language": "python",
   "name": "python3"
  },
  "language_info": {
   "codemirror_mode": {
    "name": "ipython",
    "version": 3
   },
   "file_extension": ".py",
   "mimetype": "text/x-python",
   "name": "python",
   "nbconvert_exporter": "python",
   "pygments_lexer": "ipython3",
   "version": "3.8.3"
  }
 },
 "nbformat": 4,
 "nbformat_minor": 2
}
