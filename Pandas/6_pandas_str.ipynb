{
 "cells": [
  {
   "cell_type": "code",
   "execution_count": 2,
   "metadata": {},
   "outputs": [],
   "source": [
    "import pandas as pd\n",
    "\n",
    "data = pd.read_csv(\"nba.csv\")\n",
    "\n",
    "data.dropna(inplace = True)\n",
    "\n"
   ]
  },
  {
   "cell_type": "code",
   "execution_count": 3,
   "metadata": {},
   "outputs": [
    {
     "name": "stdout",
     "output_type": "stream",
     "text": [
      "               Name            Team  Number Position   Age Height  Weight  \\\n",
      "0     Avery Bradley  Boston Celtics     0.0       PG  25.0    6-2   180.0   \n",
      "1       Jae Crowder  Boston Celtics    99.0       SF  25.0    6-6   235.0   \n",
      "3       R.J. Hunter  Boston Celtics    28.0       SG  22.0    6-5   185.0   \n",
      "6     Jordan Mickey  Boston Celtics    55.0       PF  21.0    6-8   235.0   \n",
      "7      Kelly Olynyk  Boston Celtics    41.0        C  25.0    7-0   238.0   \n",
      "8      Terry Rozier  Boston Celtics    12.0       PG  22.0    6-2   190.0   \n",
      "9      Marcus Smart  Boston Celtics    36.0       PG  22.0    6-4   220.0   \n",
      "10  Jared Sullinger  Boston Celtics     7.0        C  24.0    6-9   260.0   \n",
      "11    Isaiah Thomas  Boston Celtics     4.0       PG  27.0    5-9   185.0   \n",
      "12      Evan Turner  Boston Celtics    11.0       SG  27.0    6-7   220.0   \n",
      "\n",
      "           College     Salary FirstName   LastName  \n",
      "0            Texas  7730337.0     Avery    Bradley  \n",
      "1        Marquette  6796117.0       Jae    Crowder  \n",
      "3    Georgia State  1148640.0      R.J.     Hunter  \n",
      "6              LSU  1170960.0    Jordan     Mickey  \n",
      "7          Gonzaga  2165160.0     Kelly     Olynyk  \n",
      "8       Louisville  1824360.0     Terry     Rozier  \n",
      "9   Oklahoma State  3431040.0    Marcus      Smart  \n",
      "10      Ohio State  2569260.0     Jared  Sullinger  \n",
      "11      Washington  6912869.0    Isaiah     Thomas  \n",
      "12      Ohio State  3425510.0      Evan     Turner  \n"
     ]
    }
   ],
   "source": [
    "# data[\"Name\"] = data[\"Name\"].str.upper()\n",
    "# data[\"Name\"] = data[\"Name\"].str.lower()\n",
    "# data[\"index\"] = data[\"Name\"].str.find('a')\n",
    "# data = data[data.Name.str.contains('Jordan')]\n",
    "# data = data.Team.str.replace(' ','-')\n",
    "data[['FirstName','LastName']] = data['Name'].loc[data['Name'].str.split().str.len()==2].str.split(expand=True)\n",
    "\n",
    "\n",
    "print(data.head(10))\n",
    "\n",
    "# we may str class and call string functions multiple times"
   ]
  }
 ],
 "metadata": {
  "kernelspec": {
   "display_name": "base",
   "language": "python",
   "name": "python3"
  },
  "language_info": {
   "codemirror_mode": {
    "name": "ipython",
    "version": 3
   },
   "file_extension": ".py",
   "mimetype": "text/x-python",
   "name": "python",
   "nbconvert_exporter": "python",
   "pygments_lexer": "ipython3",
   "version": "3.8.3"
  }
 },
 "nbformat": 4,
 "nbformat_minor": 2
}
