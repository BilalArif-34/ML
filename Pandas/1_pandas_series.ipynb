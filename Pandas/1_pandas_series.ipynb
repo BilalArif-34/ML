{
 "cells": [
  {
   "cell_type": "markdown",
   "metadata": {},
   "source": [
    "# Pandas\n",
    "\n",
    "     - Data analysis library. There are two types of datastructures in pandas\n",
    "     - Series   Single Dimension\n",
    "     - Dataframe  Multidimensional\n"
   ]
  },
  {
   "cell_type": "code",
   "execution_count": 3,
   "metadata": {},
   "outputs": [],
   "source": [
    "import pandas as pd\n",
    "import numpy as np"
   ]
  },
  {
   "cell_type": "code",
   "execution_count": 4,
   "metadata": {},
   "outputs": [],
   "source": [
    "# data\n",
    "numbers = [20,30,40,50]\n",
    "letters = ['a','b','c','d']\n",
    "dict = {'a':10,'b':20,'c':30,'d':40}\n",
    "random_numbers = np.random.randint(10,100,6)"
   ]
  },
  {
   "cell_type": "code",
   "execution_count": 5,
   "metadata": {},
   "outputs": [
    {
     "name": "stdout",
     "output_type": "stream",
     "text": [
      "0    a\n",
      "1    b\n",
      "2    c\n",
      "3    d\n",
      "dtype: object\n"
     ]
    }
   ],
   "source": [
    "# Creating series \n",
    "# pandas.Series( data, index, dtype, copy)\n",
    "pandas_series = pd.Series(numbers)\n",
    "pandas_series = pd.Series(letters)\n",
    "print(pandas_series)\n"
   ]
  },
  {
   "cell_type": "code",
   "execution_count": 6,
   "metadata": {},
   "outputs": [
    {
     "name": "stdout",
     "output_type": "stream",
     "text": [
      "0    5\n",
      "1    5\n",
      "2    5\n",
      "3    5\n",
      "dtype: int64\n"
     ]
    }
   ],
   "source": [
    "pandas_series = pd.Series(5, [0,1,2,3])\n",
    "print(pandas_series)"
   ]
  },
  {
   "cell_type": "code",
   "execution_count": 7,
   "metadata": {},
   "outputs": [
    {
     "name": "stdout",
     "output_type": "stream",
     "text": [
      "a    20\n",
      "b    30\n",
      "c    40\n",
      "d    50\n",
      "dtype: int64\n"
     ]
    }
   ],
   "source": [
    "pandas_series = pd.Series(numbers, ['a','b','c','d'])    # if the index is not given default integer index is applied\n",
    "print(pandas_series)"
   ]
  },
  {
   "cell_type": "code",
   "execution_count": 8,
   "metadata": {},
   "outputs": [
    {
     "name": "stdout",
     "output_type": "stream",
     "text": [
      "a    10\n",
      "b    20\n",
      "c    30\n",
      "d    40\n",
      "dtype: int64\n"
     ]
    }
   ],
   "source": [
    "pandas_series = pd.Series(dict)\n",
    "print(pandas_series)"
   ]
  },
  {
   "cell_type": "code",
   "execution_count": 9,
   "metadata": {},
   "outputs": [
    {
     "name": "stdout",
     "output_type": "stream",
     "text": [
      "0    56\n",
      "1    99\n",
      "2    83\n",
      "3    11\n",
      "4    39\n",
      "5    64\n",
      "dtype: int32\n"
     ]
    }
   ],
   "source": [
    "pandas_series = pd.Series(random_numbers)\n",
    "print(pandas_series)"
   ]
  },
  {
   "cell_type": "markdown",
   "metadata": {},
   "source": [
    "### Indexing and Selecting Data in Series\n",
    "\n"
   ]
  },
  {
   "cell_type": "code",
   "execution_count": 10,
   "metadata": {},
   "outputs": [
    {
     "name": "stdout",
     "output_type": "stream",
     "text": [
      "0    56\n",
      "1    99\n",
      "2    83\n",
      "3    11\n",
      "4    39\n",
      "5    64\n",
      "dtype: int32\n"
     ]
    }
   ],
   "source": [
    "pandas_series = pd.Series(random_numbers)\n",
    "print(pandas_series)\n",
    "s1 = pd.Series([1,2,3,4])\n"
   ]
  },
  {
   "cell_type": "code",
   "execution_count": 11,
   "metadata": {},
   "outputs": [
    {
     "name": "stdout",
     "output_type": "stream",
     "text": [
      "4    39\n",
      "5    64\n",
      "dtype: int32\n"
     ]
    }
   ],
   "source": [
    "# result = pandas_series[0]\n",
    "result = pandas_series[:2]\n",
    "result = pandas_series[-2:]\n",
    "print(result)\n"
   ]
  },
  {
   "cell_type": "code",
   "execution_count": 12,
   "metadata": {},
   "outputs": [
    {
     "name": "stdout",
     "output_type": "stream",
     "text": [
      "a    20\n",
      "b    30\n",
      "c    40\n",
      "d    50\n",
      "dtype: int64\n"
     ]
    }
   ],
   "source": [
    "pandas_series = pd.Series(numbers, ['a','b','c','d']) \n",
    "print(pandas_series)"
   ]
  },
  {
   "cell_type": "code",
   "execution_count": 13,
   "metadata": {},
   "outputs": [
    {
     "name": "stdout",
     "output_type": "stream",
     "text": [
      "b    30\n",
      "c    40\n",
      "dtype: int64\n"
     ]
    }
   ],
   "source": [
    "# result = pandas_series['a']\n",
    "# result = pandas_series['d']\n",
    "# result = pandas_series[['a','d']]           # fancy indexing\n",
    "# result = pandas_series['a':'c']\n",
    "result = pandas_series[1:3]\n",
    "# In slicing through integer last element is not included but if you are using custom indexing then last element in included.\n",
    "# result = pandas_series[-1]   gives error for integer index but work for custom indexing\n",
    "print(result)"
   ]
  },
  {
   "cell_type": "markdown",
   "metadata": {},
   "source": [
    "### Conversion Operation on Series\n"
   ]
  },
  {
   "cell_type": "code",
   "execution_count": 14,
   "metadata": {},
   "outputs": [
    {
     "data": {
      "text/plain": [
       "dtype('int64')"
      ]
     },
     "execution_count": 14,
     "metadata": {},
     "output_type": "execute_result"
    }
   ],
   "source": [
    "data = pd.Series([5, 2, 3,7], index=['a', 'b', 'c', 'd'])\n",
    "data.dtypes "
   ]
  },
  {
   "cell_type": "code",
   "execution_count": 15,
   "metadata": {},
   "outputs": [
    {
     "data": {
      "text/plain": [
       "dtype('int32')"
      ]
     },
     "execution_count": 15,
     "metadata": {},
     "output_type": "execute_result"
    }
   ],
   "source": [
    "# converting dtypes using astype\n",
    "data=data.astype('int32')\n",
    "data.dtypes "
   ]
  }
 ],
 "metadata": {
  "kernelspec": {
   "display_name": "Python 3",
   "language": "python",
   "name": "python3"
  },
  "language_info": {
   "codemirror_mode": {
    "name": "ipython",
    "version": 3
   },
   "file_extension": ".py",
   "mimetype": "text/x-python",
   "name": "python",
   "nbconvert_exporter": "python",
   "pygments_lexer": "ipython3",
   "version": "3.8.3"
  }
 },
 "nbformat": 4,
 "nbformat_minor": 2
}
